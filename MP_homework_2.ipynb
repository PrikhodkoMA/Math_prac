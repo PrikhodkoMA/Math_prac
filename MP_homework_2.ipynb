{
  "nbformat": 4,
  "nbformat_minor": 0,
  "metadata": {
    "colab": {
      "provenance": [],
      "authorship_tag": "ABX9TyNtz0LgFG3RfjAhGL6qfKaT",
      "include_colab_link": true
    },
    "kernelspec": {
      "name": "python3",
      "display_name": "Python 3"
    },
    "language_info": {
      "name": "python"
    }
  },
  "cells": [
    {
      "cell_type": "markdown",
      "metadata": {
        "id": "view-in-github",
        "colab_type": "text"
      },
      "source": [
        "<a href=\"https://colab.research.google.com/github/PrikhodkoMA/Math_prac/blob/Hometask_2/MP_homework_2.ipynb\" target=\"_parent\"><img src=\"https://colab.research.google.com/assets/colab-badge.svg\" alt=\"Open In Colab\"/></a>"
      ]
    },
    {
      "cell_type": "markdown",
      "source": [
        "Задача 1: Создайте матрицу 5x5 со значениями 1,2,3,4 под главной диагональю. Остальные значения - нули.\n"
      ],
      "metadata": {
        "id": "t7Tyi28cyfI6"
      }
    },
    {
      "cell_type": "code",
      "source": [
        "import numpy as np\n",
        "a = np.zeros((5, 5), int)\n",
        "np.fill_diagonal(a[1 : 5][0 : 4], [1, 2, 3, 4])\n",
        "print(a)\n",
        "del a"
      ],
      "metadata": {
        "id": "Eg1mRXmJjL0r",
        "colab": {
          "base_uri": "https://localhost:8080/"
        },
        "outputId": "e1ebe1cb-2138-4592-9a42-17c0ea3abcd2"
      },
      "execution_count": null,
      "outputs": [
        {
          "output_type": "stream",
          "name": "stdout",
          "text": [
            "[[0 0 0 0 0]\n",
            " [1 0 0 0 0]\n",
            " [0 2 0 0 0]\n",
            " [0 0 3 0 0]\n",
            " [0 0 0 4 0]]\n"
          ]
        }
      ]
    },
    {
      "cell_type": "markdown",
      "source": [
        "Задача 2: Создайте двумерный массив 10x3, заполненный случайными значениями. В каждой строке выберите значение, наиболее близкое к 0.5"
      ],
      "metadata": {
        "id": "GKpTuDicymLd"
      }
    },
    {
      "cell_type": "code",
      "source": [
        "import numpy as np\n",
        "a = np.random.randn(10, 3)\n",
        "b = ((a - 0.5) ** 2).argmin(1)\n",
        "print(a)\n",
        "for i in range(10):\n",
        "  print(a[i][b[i]])\n",
        "del a, b"
      ],
      "metadata": {
        "id": "qui_APB8ifQg",
        "outputId": "ced2ac8a-5edc-4721-dfd9-719d64fff69b",
        "colab": {
          "base_uri": "https://localhost:8080/"
        }
      },
      "execution_count": 9,
      "outputs": [
        {
          "output_type": "stream",
          "name": "stdout",
          "text": [
            "[[ 1.66241826  0.21498258 -0.93162708]\n",
            " [-0.74173287 -0.18531295  1.28368082]\n",
            " [-1.40665606  0.14488868 -0.30233555]\n",
            " [-0.96459731 -0.65658749  0.53318426]\n",
            " [ 0.5068245   2.27683106  0.68567381]\n",
            " [-0.42985563 -0.4468973   0.33049701]\n",
            " [ 1.26851438  0.67503195 -2.00448652]\n",
            " [ 0.29446994  0.084655    0.14599614]\n",
            " [ 2.10547455  0.6615155  -0.12267337]\n",
            " [-0.04405459 -0.3310008  -0.16229785]]\n",
            "0.21498258296152148\n",
            "-0.18531294505155985\n",
            "0.1448886847315338\n",
            "0.5331842633142319\n",
            "0.5068245039063317\n",
            "0.33049700918354585\n",
            "0.6750319489408808\n",
            "0.2944699425473738\n",
            "0.661515495500187\n",
            "-0.04405459093047076\n"
          ]
        }
      ]
    },
    {
      "cell_type": "markdown",
      "source": [
        "Задача 3:\n",
        "Создайте двумерный массив 6x6, заполненный случайными значениями. Сумму по каждой строке поделите на максимальный элемент из столбца с тем же индексом\n",
        "\n"
      ],
      "metadata": {
        "id": "UgUUoF5n46ad"
      }
    },
    {
      "cell_type": "code",
      "source": [
        "import numpy as np\n",
        "a = np.random.random((6, 6))\n",
        "print(np.sum(a, axis = 1) / np.max(a, axis = 0))\n",
        "del a"
      ],
      "metadata": {
        "id": "wJe87ft7yip9",
        "colab": {
          "base_uri": "https://localhost:8080/"
        },
        "outputId": "80265d9a-14a5-427d-8944-3d9031f5cc26"
      },
      "execution_count": 11,
      "outputs": [
        {
          "output_type": "stream",
          "name": "stdout",
          "text": [
            "[2.29766077 4.70404445 3.57933388 4.9627776  3.82989028 2.64109791]\n"
          ]
        }
      ]
    },
    {
      "cell_type": "markdown",
      "source": [
        "Задача 4: На примере массива x = np.array([6, 2, 0, 3, 0, 0, 5, 7, 0]) найдите максимальный элемент в массиве среди элементов, перед которыми стоит ноль\n",
        "\n",
        "не получилось без цикла"
      ],
      "metadata": {
        "id": "Z3V38XRm6IxV"
      }
    },
    {
      "cell_type": "code",
      "source": [
        "import numpy as np\n",
        "x = np.array([6, 2, 0, 3, 0, 0, 5, 7, 0])\n",
        "max(x[i] for i in range(1, len(x)) if x[i - 1] == 0)\n",
        "del x, i"
      ],
      "metadata": {
        "id": "mqZa08v15j6r"
      },
      "execution_count": null,
      "outputs": []
    },
    {
      "cell_type": "markdown",
      "source": [
        "Задача 5: Пусть заданы два массива x = np.ones(10) и i = np.array([0, 1, 2, 3, 5, 5, 5, 8]). Прибавьте единицу к тем элементам массива x, индексы которых указаны в массиве i. В случае, если некоторый индекс встретился в массиве i несколько раз, прибавьте к соответствующему элементу массива x число вхождений данного индекса в массив i\n",
        "\n",
        "не получилось без цикла"
      ],
      "metadata": {
        "id": "ERbpHMsRNjiO"
      }
    },
    {
      "cell_type": "code",
      "source": [
        "import numpy as np\n",
        "x = np.ones(10)\n",
        "i = np.array([0, 1, 2, 3, 5, 5, 5, 8])\n",
        "for j in i:\n",
        "  x[j] += 1\n",
        "print(x)\n",
        "del x, i, j"
      ],
      "metadata": {
        "colab": {
          "base_uri": "https://localhost:8080/"
        },
        "id": "nuBUPJHW52aO",
        "outputId": "5de0fa4a-7421-41fe-b519-82280baef228"
      },
      "execution_count": null,
      "outputs": [
        {
          "output_type": "stream",
          "name": "stdout",
          "text": [
            "[2. 2. 2. 2. 1. 4. 1. 1. 2. 1.]\n"
          ]
        }
      ]
    },
    {
      "cell_type": "markdown",
      "source": [
        "Задача 6: Сколько вы можете предложить способов округлить значения в массиве до ближайшего целого?"
      ],
      "metadata": {
        "id": "LbAfI-t2VHQX"
      }
    },
    {
      "cell_type": "code",
      "source": [
        "import numpy as np\n",
        "a = np.random.rand(10)\n",
        "print(a)\n",
        "a.round()"
      ],
      "metadata": {
        "colab": {
          "base_uri": "https://localhost:8080/"
        },
        "id": "dxzRQL1uNyZW",
        "outputId": "f421c2af-d4f1-42c6-e474-0dde9f22f66b"
      },
      "execution_count": null,
      "outputs": [
        {
          "output_type": "stream",
          "name": "stdout",
          "text": [
            "[0.90980784 0.303138   0.58714846 0.66784536 0.83763891 0.63262326\n",
            " 0.81446884 0.03996382 0.21239616 0.34749942]\n"
          ]
        },
        {
          "output_type": "execute_result",
          "data": {
            "text/plain": [
              "array([1., 0., 1., 1., 1., 1., 1., 0., 0., 0.])"
            ]
          },
          "metadata": {},
          "execution_count": 164
        }
      ]
    },
    {
      "cell_type": "code",
      "source": [
        "import numpy as np\n",
        "a = np.random.rand(10)\n",
        "print(a)\n",
        "a = (a + 0.5) // 1\n",
        "print(a)"
      ],
      "metadata": {
        "colab": {
          "base_uri": "https://localhost:8080/"
        },
        "id": "BMI5cA23jJ9M",
        "outputId": "0c963e6f-213a-46ef-8cb2-25d7d1d26a69"
      },
      "execution_count": null,
      "outputs": [
        {
          "output_type": "stream",
          "name": "stdout",
          "text": [
            "[0.98963595 0.77645353 0.82085085 0.62804709 0.10119861 0.67728519\n",
            " 0.47268672 0.6141237  0.89556905 0.84410846]\n",
            "[1. 1. 1. 1. 0. 1. 0. 1. 1. 1.]\n"
          ]
        }
      ]
    },
    {
      "cell_type": "code",
      "source": [
        "import numpy as np\n",
        "a = np.random.rand(10)\n",
        "print(a)\n",
        "for i in range(len(a)):\n",
        "  if(a[i] % 1 < 0.5): \n",
        "    a[i] -= a[i] % 1\n",
        "  else: a[i] = a[i] - a[i] % 1 + 1\n",
        "print(a)"
      ],
      "metadata": {
        "colab": {
          "base_uri": "https://localhost:8080/"
        },
        "id": "hA8rDrWeX8UR",
        "outputId": "855cc785-f050-49a8-8aae-6950b0fced70"
      },
      "execution_count": null,
      "outputs": [
        {
          "output_type": "stream",
          "name": "stdout",
          "text": [
            "[0.00198994 0.61322198 0.53144195 0.48128573 0.98638517 0.15572842\n",
            " 0.49967614 0.39062921 0.08961324 0.49889184]\n",
            "[0. 1. 1. 0. 1. 0. 0. 0. 0. 0.]\n"
          ]
        }
      ]
    },
    {
      "cell_type": "markdown",
      "source": [
        "Задача 7:\n",
        "Написать функцию, реализующую алгоритм k-means.\n",
        "\n",
        "Входом в функцию является\n",
        "\n",
        "- массив NxM, где N - число объектов, M - число признаков объекта\n",
        "- k - число кластеров\n",
        "- max_iter - максимальное число итераций\n",
        "- theshold - критерий остановки (если на очередной итерации метода суммарное квадратичное отклонение изменяется меньше, чем на theshold, итерации прекращаются)\n",
        "\n",
        "Выход:\n",
        "- массив длины N, содержащий индексы кластеров от 0 до k-1\n",
        "- суммарное квадратичное отклонение для полученного разбиения на кластеры\n",
        "\n",
        "(!) Фунция должна содержать не более 2 циклов for/while! Стремитесь обойтись как можно меньшим количеством строк кода.\n",
        "\n",
        "Примечание: алгоритм может работать долго из-за того, что долго происходит выделение памяти под большие массивы. \n",
        "С точки зрения эффективности - это плохой пример, но целью задания является написание не самого быстрого, а самого компактного алгоритма."
      ],
      "metadata": {
        "id": "-xVN_2_X_7p7"
      }
    },
    {
      "cell_type": "code",
      "source": [
        "from sklearn.datasets import fetch_openml\n",
        "\n",
        "#Загрузка может занять около минуты\n",
        "images, labels = fetch_openml('mnist_784', return_X_y=True, as_frame=False)\n",
        "a = images"
      ],
      "metadata": {
        "id": "w_pB_xx9B1js"
      },
      "execution_count": 85,
      "outputs": []
    },
    {
      "cell_type": "code",
      "source": [
        "a = a[:10000][:]"
      ],
      "metadata": {
        "id": "ZYOPTU5RwtME"
      },
      "execution_count": 80,
      "outputs": []
    },
    {
      "cell_type": "code",
      "source": [
        "import numpy as np\n",
        "def k_means(a, k, max_iter, theshold):\n",
        "  #а - массив рамера (10000, 784)\n",
        "  i = 0\n",
        "  dJ = theshold + 1\n",
        "  J2 = 0\n",
        "  ccc = ((a[np.random.randint(0, a.shape[0], k)]).reshape(k, 1, (a.shape)[1])).astype('float64') #clust_center_coord - Массив размера (k, 1, 784)\n",
        "  while(i < max_iter and dJ > theshold):\n",
        "    J1 = J2\n",
        "    dist = ((a - ccc) ** 2).sum(2)\n",
        "    clusters = dist.argmin(0) #Одномерный массив \"точка - номер кластера\"\n",
        "    J2 = 0 \n",
        "    k_cnt = np.zeros(k)\n",
        "\n",
        "    for j in range((a.shape)[0]): #Новая внутрикластерная дисперсия\n",
        "      J2 += dist[clusters[j]][j]\n",
        "      ccc[clusters[j]][0] += a[j] #Сумма всех элементов кластера\n",
        "      k_cnt[clusters[j]] += 1\n",
        "      \n",
        "    \n",
        "    ccc = ccc / k_cnt.reshape(k, 1, 1) #Среднее всех элументов кластера = новые центры\n",
        "\n",
        "    dJ = abs(J2 - J1)\n",
        "    i += 1\n",
        "  return clusters, ccc, J2\n",
        "  "
      ],
      "metadata": {
        "id": "gnohKQ3P_4dE"
      },
      "execution_count": 102,
      "outputs": []
    },
    {
      "cell_type": "code",
      "source": [
        "my_labels, centroids, dispersion = k_means(a, 10, 1000000, 1)"
      ],
      "metadata": {
        "id": "VqeqrVvgiGMM"
      },
      "execution_count": 103,
      "outputs": []
    },
    {
      "cell_type": "code",
      "source": [
        "import matplotlib.pyplot as plt\n",
        "fig, axes = plt.subplots(1, 10, figsize=(20, 6))\n",
        "\n",
        "for i, ax in enumerate(axes):\n",
        "    ax.imshow(centroids[i].reshape(28, 28))\n",
        "    ax.axis('off')"
      ],
      "metadata": {
        "colab": {
          "base_uri": "https://localhost:8080/",
          "height": 125
        },
        "id": "NlMFyt-qrZ6U",
        "outputId": "d3d8e38d-380c-43c8-84ff-61c919d94a3e"
      },
      "execution_count": 105,
      "outputs": [
        {
          "output_type": "display_data",
          "data": {
            "text/plain": [
              "<Figure size 1440x432 with 10 Axes>"
            ],
            "image/png": "[encoded data removed]"
          },
          "metadata": {
            "needs_background": "light"
          }
        }
      ]
    },
    {
      "cell_type": "code",
      "source": [
        "translate = dict(zip(np.arange(10), [3, 8, 9, 0, 1, 0, 4, 6, 2, 7]))\n",
        "new_labels = np.array([translate[i] for i in range(0, 10)])\n",
        "print(new_labels)"
      ],
      "metadata": {
        "colab": {
          "base_uri": "https://localhost:8080/"
        },
        "id": "Q5D8JD0sjEuP",
        "outputId": "ad9223d1-f072-4931-adf9-901294e4113e"
      },
      "execution_count": 106,
      "outputs": [
        {
          "output_type": "stream",
          "name": "stdout",
          "text": [
            "[3 8 9 0 1 0 4 6 2 7]\n"
          ]
        }
      ]
    },
    {
      "cell_type": "markdown",
      "source": [
        "Количество угаданных цифр из 70000"
      ],
      "metadata": {
        "id": "8SA-AsH75p74"
      }
    },
    {
      "cell_type": "code",
      "source": [
        "sum = 0\n",
        "for i in range(0, a.shape[0]):\n",
        "  if(new_labels[my_labels[i]] == int(labels[i])):\n",
        "    sum = sum + 1\n",
        "print(sum)\n",
        "     "
      ],
      "metadata": {
        "colab": {
          "base_uri": "https://localhost:8080/"
        },
        "id": "7AJD9xZaxtV0",
        "outputId": "15ad44fb-bba9-4f26-de69-37ec70944b9b"
      },
      "execution_count": 107,
      "outputs": [
        {
          "output_type": "stream",
          "name": "stdout",
          "text": [
            "41677\n"
          ]
        }
      ]
    },
    {
      "cell_type": "code",
      "source": [
        "elbow = np.arange(1, 14)\n",
        "for k in range(0, 13):\n",
        "  c, cc, elbow[k] = k_means(a, k + 1, 100, 1)\n",
        "\n",
        "plt.plot(np.arange(1, 14), elbow,'r')\n",
        "plt.xlabel(\"k\")\n",
        "plt.ylabel(\"суммарное квадратичное отклонение\")\n",
        "plt.title(\"метод elbow\")\n",
        "plt.show()"
      ],
      "metadata": {
        "colab": {
          "base_uri": "https://localhost:8080/",
          "height": 295
        },
        "id": "r4KqSz903hVa",
        "outputId": "4611800f-2041-45e7-9fe8-7b2ae473e740"
      },
      "execution_count": 108,
      "outputs": [
        {
          "output_type": "display_data",
          "data": {
            "text/plain": [
              "<Figure size 432x288 with 1 Axes>"
            ],
            "image/png": "[encoded data removed]"
          },
          "metadata": {
            "needs_background": "light"
          }
        }
      ]
    },
    {
      "cell_type": "code",
      "source": [],
      "metadata": {
        "id": "SoBwaYk14WpF"
      },
      "execution_count": null,
      "outputs": []
    }
  ]
}