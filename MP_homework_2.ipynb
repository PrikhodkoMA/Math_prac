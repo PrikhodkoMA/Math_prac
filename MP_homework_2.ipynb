{
  "nbformat": 4,
  "nbformat_minor": 0,
  "metadata": {
    "colab": {
      "provenance": [],
      "collapsed_sections": [],
      "authorship_tag": "ABX9TyOYVUD/mRc00CPmQbpCmxw0",
      "include_colab_link": true
    },
    "kernelspec": {
      "name": "python3",
      "display_name": "Python 3"
    },
    "language_info": {
      "name": "python"
    }
  },
  "cells": [
    {
      "cell_type": "markdown",
      "metadata": {
        "id": "view-in-github",
        "colab_type": "text"
      },
      "source": [
        "<a href=\"https://colab.research.google.com/github/PrikhodkoMA/Math_prac/blob/Hometask_2/Homework_2.ipynb\" target=\"_parent\"><img src=\"https://colab.research.google.com/assets/colab-badge.svg\" alt=\"Open In Colab\"/></a>"
      ]
    },
    {
      "cell_type": "markdown",
      "source": [
        "Задача 1:\n"
      ],
      "metadata": {
        "id": "t7Tyi28cyfI6"
      }
    },
    {
      "cell_type": "markdown",
      "source": [
        "Почему-то не работает, если не заводить под нулевую матрицу отдельную переменную"
      ],
      "metadata": {
        "id": "NlaKi8jGUxB9"
      }
    },
    {
      "cell_type": "code",
      "execution_count": null,
      "metadata": {
        "id": "D6fX7peVjLIn",
        "colab": {
          "base_uri": "https://localhost:8080/"
        },
        "outputId": "8177efe9-abe3-4a48-a2c5-4ad8c7bf19ec"
      },
      "outputs": [
        {
          "output_type": "stream",
          "name": "stdout",
          "text": [
            "None\n"
          ]
        }
      ],
      "source": [
        "import numpy as np\n",
        "a = np.fill_diagonal(np.zeros((5, 5), int)[1 : 5][0 : 4], [1, 2, 3, 4])\n",
        "print(a)\n",
        "del a"
      ]
    },
    {
      "cell_type": "markdown",
      "source": [
        "Если разбить на доп перменные, то работает:"
      ],
      "metadata": {
        "id": "u2Vsqi8wUxNJ"
      }
    },
    {
      "cell_type": "code",
      "source": [
        "import numpy as np\n",
        "a = np.zeros((5, 5), int)\n",
        "np.fill_diagonal(a[1 : 5][0 : 4], [1, 2, 3, 4])\n",
        "print(a)\n",
        "del a"
      ],
      "metadata": {
        "id": "Eg1mRXmJjL0r",
        "colab": {
          "base_uri": "https://localhost:8080/"
        },
        "outputId": "e1ebe1cb-2138-4592-9a42-17c0ea3abcd2"
      },
      "execution_count": null,
      "outputs": [
        {
          "output_type": "stream",
          "name": "stdout",
          "text": [
            "[[0 0 0 0 0]\n",
            " [1 0 0 0 0]\n",
            " [0 2 0 0 0]\n",
            " [0 0 3 0 0]\n",
            " [0 0 0 4 0]]\n"
          ]
        }
      ]
    },
    {
      "cell_type": "markdown",
      "source": [
        "Задача 2: не получилось без циклов\n"
      ],
      "metadata": {
        "id": "GKpTuDicymLd"
      }
    },
    {
      "cell_type": "code",
      "source": [
        "import numpy as np\n",
        "a = np.ones((10, 3))\n",
        "b = np.zeros(10, int)\n",
        "for i in range(10):\n",
        "  for j in range(3):\n",
        "    if abs(a[i][j] - 0.5) < abs(a[i][b[i]] - 0.5): b[i] = j;\n",
        "  b[i] = a[i][b[i]]\n",
        "print(b)\n",
        "del a, b"
      ],
      "metadata": {
        "colab": {
          "base_uri": "https://localhost:8080/"
        },
        "id": "0z4sk5GXuv-z",
        "outputId": "dc596f7e-b15b-4101-bccf-b381aaac6775"
      },
      "execution_count": null,
      "outputs": [
        {
          "output_type": "stream",
          "name": "stdout",
          "text": [
            "[1 1 1 1 1 1 1 1 1 1]\n"
          ]
        }
      ]
    },
    {
      "cell_type": "markdown",
      "source": [
        "Задача 3:"
      ],
      "metadata": {
        "id": "UgUUoF5n46ad"
      }
    },
    {
      "cell_type": "code",
      "source": [
        "import numpy as np\n",
        "a = np.random.random((6, 6))\n",
        "np.sum(a, axis = 1) / np.max(a, axis = 0)\n",
        "del a"
      ],
      "metadata": {
        "id": "wJe87ft7yip9"
      },
      "execution_count": null,
      "outputs": []
    },
    {
      "cell_type": "markdown",
      "source": [
        "Задача 4: не получилось без цикла"
      ],
      "metadata": {
        "id": "Z3V38XRm6IxV"
      }
    },
    {
      "cell_type": "code",
      "source": [
        "import numpy as np\n",
        "x = np.array([6, 2, 0, 3, 0, 0, 5, 7, 0])\n",
        "mask = []\n",
        "for i in range(1, len(x)):\n",
        "  if x[i - 1] == 0: mask.append(i)\n",
        "print(np.max(x[mask]))\n",
        "del x, i, mask"
      ],
      "metadata": {
        "id": "mqZa08v15j6r"
      },
      "execution_count": null,
      "outputs": []
    },
    {
      "cell_type": "markdown",
      "source": [
        "Задача 5: не получилось без цикла"
      ],
      "metadata": {
        "id": "ERbpHMsRNjiO"
      }
    },
    {
      "cell_type": "code",
      "source": [
        "import numpy as np\n",
        "x = np.ones(10)\n",
        "i = np.array([0, 1, 2, 3, 5, 5, 5, 8])\n",
        "for j in i:\n",
        "  x[j] += 1\n",
        "print(x)\n",
        "del x, i, j"
      ],
      "metadata": {
        "colab": {
          "base_uri": "https://localhost:8080/"
        },
        "id": "nuBUPJHW52aO",
        "outputId": "5de0fa4a-7421-41fe-b519-82280baef228"
      },
      "execution_count": null,
      "outputs": [
        {
          "output_type": "stream",
          "name": "stdout",
          "text": [
            "[2. 2. 2. 2. 1. 4. 1. 1. 2. 1.]\n"
          ]
        }
      ]
    },
    {
      "cell_type": "markdown",
      "source": [
        "Задача 6:"
      ],
      "metadata": {
        "id": "LbAfI-t2VHQX"
      }
    },
    {
      "cell_type": "code",
      "source": [
        "import numpy as np\n",
        "a = np.random.rand(10)\n",
        "print(a)\n",
        "a.round()"
      ],
      "metadata": {
        "colab": {
          "base_uri": "https://localhost:8080/"
        },
        "id": "dxzRQL1uNyZW",
        "outputId": "f421c2af-d4f1-42c6-e474-0dde9f22f66b"
      },
      "execution_count": null,
      "outputs": [
        {
          "output_type": "stream",
          "name": "stdout",
          "text": [
            "[0.90980784 0.303138   0.58714846 0.66784536 0.83763891 0.63262326\n",
            " 0.81446884 0.03996382 0.21239616 0.34749942]\n"
          ]
        },
        {
          "output_type": "execute_result",
          "data": {
            "text/plain": [
              "array([1., 0., 1., 1., 1., 1., 1., 0., 0., 0.])"
            ]
          },
          "metadata": {},
          "execution_count": 164
        }
      ]
    },
    {
      "cell_type": "code",
      "source": [
        "import numpy as np\n",
        "a = np.random.rand(10)\n",
        "print(a)\n",
        "a = (a + 0.5) // 1\n",
        "print(a)"
      ],
      "metadata": {
        "colab": {
          "base_uri": "https://localhost:8080/"
        },
        "id": "BMI5cA23jJ9M",
        "outputId": "0c963e6f-213a-46ef-8cb2-25d7d1d26a69"
      },
      "execution_count": null,
      "outputs": [
        {
          "output_type": "stream",
          "name": "stdout",
          "text": [
            "[0.98963595 0.77645353 0.82085085 0.62804709 0.10119861 0.67728519\n",
            " 0.47268672 0.6141237  0.89556905 0.84410846]\n",
            "[1. 1. 1. 1. 0. 1. 0. 1. 1. 1.]\n"
          ]
        }
      ]
    },
    {
      "cell_type": "code",
      "source": [
        "import numpy as np\n",
        "a = np.random.rand(10)\n",
        "print(a)\n",
        "for i in range(len(a)):\n",
        "  if(a[i] % 1 < 0.5): \n",
        "    a[i] -= a[i] % 1\n",
        "  else: a[i] = a[i] - a[i] % 1 + 1\n",
        "print(a)"
      ],
      "metadata": {
        "colab": {
          "base_uri": "https://localhost:8080/"
        },
        "id": "hA8rDrWeX8UR",
        "outputId": "855cc785-f050-49a8-8aae-6950b0fced70"
      },
      "execution_count": null,
      "outputs": [
        {
          "output_type": "stream",
          "name": "stdout",
          "text": [
            "[0.00198994 0.61322198 0.53144195 0.48128573 0.98638517 0.15572842\n",
            " 0.49967614 0.39062921 0.08961324 0.49889184]\n",
            "[0. 1. 1. 0. 1. 0. 0. 0. 0. 0.]\n"
          ]
        }
      ]
    },
    {
      "cell_type": "code",
      "source": [],
      "metadata": {
        "id": "sNq5_nkJi3HE"
      },
      "execution_count": null,
      "outputs": []
    }
  ]
}
