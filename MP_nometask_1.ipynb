{
  "nbformat": 4,
  "nbformat_minor": 0,
  "metadata": {
    "colab": {
      "provenance": [],
      "authorship_tag": "ABX9TyPak0LY5+4tinvzebIFLDsi",
      "include_colab_link": true
    },
    "kernelspec": {
      "name": "python3",
      "display_name": "Python 3"
    },
    "language_info": {
      "name": "python"
    }
  },
  "cells": [
    {
      "cell_type": "markdown",
      "metadata": {
        "id": "view-in-github",
        "colab_type": "text"
      },
      "source": [
        "<a href=\"https://colab.research.google.com/github/PrikhodkoMA/Math_prac/blob/Hometask_1/MP_nometask_1.ipynb\" target=\"_parent\"><img src=\"https://colab.research.google.com/assets/colab-badge.svg\" alt=\"Open In Colab\"/></a>"
      ]
    },
    {
      "cell_type": "markdown",
      "source": [
        "Задача на 1 балл:\n",
        "https://edabit.com/challenge/gt9LLufDCMHKMioh2"
      ],
      "metadata": {
        "id": "WRNt68rlG0Y5"
      }
    },
    {
      "cell_type": "code",
      "execution_count": 1,
      "metadata": {
        "id": "8eMxUeT-GcHY"
      },
      "outputs": [],
      "source": [
        "def stutter(x):\n",
        "    return x[:2] + '...' + x[:2] + '...' + x +'?'\n",
        "\n"
      ]
    },
    {
      "cell_type": "code",
      "source": [
        "stutter(\"five\")"
      ],
      "metadata": {
        "colab": {
          "base_uri": "https://localhost:8080/",
          "height": 36
        },
        "id": "Mk8h1pNYGecX",
        "outputId": "4bacc22f-768b-4b1c-f132-a58383298941"
      },
      "execution_count": 2,
      "outputs": [
        {
          "output_type": "execute_result",
          "data": {
            "text/plain": [
              "'fi...fi...five?'"
            ],
            "application/vnd.google.colaboratory.intrinsic+json": {
              "type": "string"
            }
          },
          "metadata": {},
          "execution_count": 2
        }
      ]
    },
    {
      "cell_type": "markdown",
      "source": [
        "Задача на 2 балла:\n",
        "https://edabit.com/challenge/xRMQG4Sxewx5agDRr"
      ],
      "metadata": {
        "id": "Wmwiy4KeG5i3"
      }
    },
    {
      "cell_type": "code",
      "source": [
        "def find_highest(x):\n",
        "    x = list(x)\n",
        "    if len(x) == 1: return x[0]\n",
        "    if x[0] >= find_highest(x[1:]) : return x[0]\n",
        "    return find_highest(x[1:])\n",
        "\n",
        "find_highest([31, 2, 5, -4])\n",
        "\n"
      ],
      "metadata": {
        "colab": {
          "base_uri": "https://localhost:8080/"
        },
        "id": "3hu5p6RsGe3I",
        "outputId": "17f3ebe1-9ef7-453c-8e35-d609819b4123"
      },
      "execution_count": 3,
      "outputs": [
        {
          "output_type": "execute_result",
          "data": {
            "text/plain": [
              "31"
            ]
          },
          "metadata": {},
          "execution_count": 3
        }
      ]
    },
    {
      "cell_type": "markdown",
      "source": [
        "Задача на 2 балла:\n",
        "https://edabit.com/challenge/3DAkZHv2LZjgqWbvW"
      ],
      "metadata": {
        "id": "inmWt4kkG-N0"
      }
    },
    {
      "cell_type": "code",
      "source": [
        "def adjacency_check(matrix, i, j):\n",
        "    if i >= len(matrix) or j >= len(matrix): return \"Incorrect index\"\n",
        "    return bool(matrix[i][j])\n",
        "\n",
        "a = [[0, 1, 0],\n",
        "     [1, 0, 0],\n",
        "     [0, 0, 0]]\n",
        "\n",
        "adjacency_check(a, 1, 2)"
      ],
      "metadata": {
        "colab": {
          "base_uri": "https://localhost:8080/"
        },
        "id": "ml59cu9mGe8H",
        "outputId": "93b48443-67b5-4b1f-80ba-edd2862473ed"
      },
      "execution_count": 5,
      "outputs": [
        {
          "output_type": "execute_result",
          "data": {
            "text/plain": [
              "False"
            ]
          },
          "metadata": {},
          "execution_count": 5
        }
      ]
    },
    {
      "cell_type": "markdown",
      "source": [
        "Задача на 2 балла(ультрапростая):\n",
        "https://edabit.com/challenge/NNhkGocuPMcryW7GP"
      ],
      "metadata": {
        "id": "rBnzUufiHCSD"
      }
    },
    {
      "cell_type": "code",
      "source": [
        "def square_areas_difference(r):\n",
        "    return 2 * r ** 2\n",
        "\n",
        "square_areas_difference(5)\n",
        "\n"
      ],
      "metadata": {
        "id": "L5OhKnPvGfAD"
      },
      "execution_count": null,
      "outputs": []
    },
    {
      "cell_type": "markdown",
      "source": [
        "Задача на 3 балла:\n",
        "https://edabit.com/challenge/Y5Ji2HDnQTX7MxeHt"
      ],
      "metadata": {
        "id": "y9IIYjMWHGKJ"
      }
    },
    {
      "cell_type": "code",
      "source": [
        "import math\n",
        "def snakefill(n):\n",
        "    return int((math.log(n * n, 2)) // 1)\n",
        "\n",
        "snakefill(555)\n",
        "\n"
      ],
      "metadata": {
        "id": "AT2EPOiRGfDU"
      },
      "execution_count": null,
      "outputs": []
    },
    {
      "cell_type": "markdown",
      "source": [
        "Задача на 3 балла:\n",
        "https://edabit.com/challenge/r6TSNwkLZ2DgsoKiH"
      ],
      "metadata": {
        "id": "RAnwOQiyHK-n"
      }
    },
    {
      "cell_type": "code",
      "source": [
        "def oddishOrEvenish(x):\n",
        "    s = 0\n",
        "    while x > 0:\n",
        "        s += x % 10\n",
        "        x = x // 10\n",
        "    if s % 2: \n",
        "        print(\"Oddish\")\n",
        "    else: \n",
        "        print(\"Evenish\")\n",
        "        \n",
        "\n",
        "oddishOrEvenish(45)\n"
      ],
      "metadata": {
        "id": "g5KOv_0zGfGr"
      },
      "execution_count": null,
      "outputs": []
    },
    {
      "cell_type": "markdown",
      "source": [
        "Задача на 2 балла:\n",
        "https://edabit.com/challenge/yFJzLfYghz7ZtsyAN"
      ],
      "metadata": {
        "id": "pjlH5jfGHMNl"
      }
    },
    {
      "cell_type": "code",
      "source": [
        "def num_of_digits(x):\n",
        "    s = 0\n",
        "    while x > 0:\n",
        "        s += 1\n",
        "        x = x // 10\n",
        "    return s\n",
        "\n",
        "num_of_digits(100)"
      ],
      "metadata": {
        "id": "3v8Jd826GfKC"
      },
      "execution_count": null,
      "outputs": []
    }
  ]
}