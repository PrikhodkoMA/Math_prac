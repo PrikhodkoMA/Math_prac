{
 "cells": [
  {
   "cell_type": "code",
   "execution_count": 1,
   "id": "7a245f58",
   "metadata": {},
   "outputs": [],
   "source": [
    "'''\n",
    "Задача на 1 балл:\n",
    "https://edabit.com/challenge/gt9LLufDCMHKMioh2\n",
    "'''\n",
    "def stutter(x):\n",
    "    return x[:2] + '...' + x[:2] + '...' + x +'?'"
   ]
  },
  {
   "cell_type": "code",
   "execution_count": 3,
   "id": "d7b83d04",
   "metadata": {},
   "outputs": [
    {
     "data": {
      "text/plain": [
       "'fi...fi...five?'"
      ]
     },
     "execution_count": 3,
     "metadata": {},
     "output_type": "execute_result"
    }
   ],
   "source": [
    "stutter(\"five\")"
   ]
  },
  {
   "cell_type": "code",
   "execution_count": 10,
   "id": "e402f99d",
   "metadata": {},
   "outputs": [],
   "source": [
    "'''\n",
    "Задача на 2 балла:\n",
    "https://edabit.com/challenge/xRMQG4Sxewx5agDRr\n",
    "'''\n",
    "def find_highest(x):\n",
    "    x = list(x)\n",
    "    if len(x) == 1: return x[0]\n",
    "    if x[0] >= find_highest(x[1:]) : return x[0]\n",
    "    return find_highest(x[1:])"
   ]
  },
  {
   "cell_type": "code",
   "execution_count": 11,
   "id": "a4db921d",
   "metadata": {},
   "outputs": [
    {
     "data": {
      "text/plain": [
       "31"
      ]
     },
     "execution_count": 11,
     "metadata": {},
     "output_type": "execute_result"
    }
   ],
   "source": [
    "find_highest([31, 2, 5, -4])"
   ]
  },
  {
   "cell_type": "code",
   "execution_count": 18,
   "id": "cdfb8f70",
   "metadata": {},
   "outputs": [],
   "source": [
    "'''\n",
    "Задача на 2 балла:\n",
    "https://edabit.com/challenge/3DAkZHv2LZjgqWbvW\n",
    "'''\n",
    "def adjacency_check(matrix, i, j):\n",
    "    if i >= len(matrix) or j >= len(matrix): return \"Incorrect index\"\n",
    "    return bool(matrix[i][j])"
   ]
  },
  {
   "cell_type": "code",
   "execution_count": 19,
   "id": "c2aa4c6c",
   "metadata": {},
   "outputs": [],
   "source": [
    "a = [[0, 1, 0],\n",
    "     [1, 0, 0],\n",
    "     [0, 0, 0]]"
   ]
  },
  {
   "cell_type": "code",
   "execution_count": 20,
   "id": "ee51a711",
   "metadata": {},
   "outputs": [
    {
     "data": {
      "text/plain": [
       "'Incorrect index'"
      ]
     },
     "execution_count": 20,
     "metadata": {},
     "output_type": "execute_result"
    }
   ],
   "source": [
    "adjacency_check(a, 1, 3)"
   ]
  },
  {
   "cell_type": "code",
   "execution_count": 23,
   "id": "6ad74989",
   "metadata": {},
   "outputs": [],
   "source": [
    "'''\n",
    "Задача на 2 балла(ультрапростая):\n",
    "https://edabit.com/challenge/NNhkGocuPMcryW7GP\n",
    "'''\n",
    "def square_areas_difference(r):\n",
    "    return 2 * r ** 2"
   ]
  },
  {
   "cell_type": "code",
   "execution_count": 24,
   "id": "bd989ce8",
   "metadata": {},
   "outputs": [
    {
     "data": {
      "text/plain": [
       "50"
      ]
     },
     "execution_count": 24,
     "metadata": {},
     "output_type": "execute_result"
    }
   ],
   "source": [
    "square_areas_difference(5)"
   ]
  },
  {
   "cell_type": "code",
   "execution_count": 10,
   "id": "6a98ab65",
   "metadata": {},
   "outputs": [],
   "source": [
    "'''\n",
    "Задача на 3 балла:\n",
    "https://edabit.com/challenge/Y5Ji2HDnQTX7MxeHt\n",
    "'''\n",
    "import math\n",
    "def snakefill(n):\n",
    "    return int((math.log(n * n, 2)) // 1)"
   ]
  },
  {
   "cell_type": "code",
   "execution_count": 13,
   "id": "6e8960d2",
   "metadata": {},
   "outputs": [
    {
     "data": {
      "text/plain": [
       "18"
      ]
     },
     "execution_count": 13,
     "metadata": {},
     "output_type": "execute_result"
    }
   ],
   "source": [
    "snakefill(555)"
   ]
  },
  {
   "cell_type": "code",
   "execution_count": 23,
   "id": "079cf2c7",
   "metadata": {},
   "outputs": [],
   "source": [
    "'''\n",
    "Задача на 3 балла:\n",
    "https://edabit.com/challenge/r6TSNwkLZ2DgsoKiH\n",
    "'''\n",
    "def oddishOrEvenish(x):\n",
    "    s = 0\n",
    "    while x > 0:\n",
    "        s += x % 10\n",
    "        x = x // 10\n",
    "    if s % 2: \n",
    "        print(\"Oddish\")\n",
    "    else: \n",
    "        print(\"Evenish\")\n",
    "        "
   ]
  },
  {
   "cell_type": "code",
   "execution_count": 24,
   "id": "05c6afcb",
   "metadata": {},
   "outputs": [
    {
     "name": "stdout",
     "output_type": "stream",
     "text": [
      "Oddish\n"
     ]
    }
   ],
   "source": [
    "oddishOrEvenish(45)"
   ]
  },
  {
   "cell_type": "code",
   "execution_count": 50,
   "id": "cb525a48",
   "metadata": {},
   "outputs": [],
   "source": [
    "'''\n",
    "Задача на 2 балла:\n",
    "https://edabit.com/challenge/yFJzLfYghz7ZtsyAN\n",
    "'''\n",
    "\n",
    "def num_of_digits(x):\n",
    "    s = 0\n",
    "    while x > 0:\n",
    "        s += 1\n",
    "        x = x // 10\n",
    "    return s"
   ]
  },
  {
   "cell_type": "code",
   "execution_count": 51,
   "id": "6882b648",
   "metadata": {},
   "outputs": [
    {
     "data": {
      "text/plain": [
       "3"
      ]
     },
     "execution_count": 51,
     "metadata": {},
     "output_type": "execute_result"
    }
   ],
   "source": [
    "num_of_digits(100)"
   ]
  }
 ],
 "metadata": {
  "kernelspec": {
   "display_name": "Python 3 (ipykernel)",
   "language": "python",
   "name": "python3"
  },
  "language_info": {
   "codemirror_mode": {
    "name": "ipython",
    "version": 3
   },
   "file_extension": ".py",
   "mimetype": "text/x-python",
   "name": "python",
   "nbconvert_exporter": "python",
   "pygments_lexer": "ipython3",
   "version": "3.9.7"
  }
 },
 "nbformat": 4,
 "nbformat_minor": 5
}
