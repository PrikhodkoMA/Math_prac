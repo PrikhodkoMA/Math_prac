'''
Задача на 1 балл:
https://edabit.com/challenge/gt9LLufDCMHKMioh2
'''
def stutter(x):
    return x[:2] + '...' + x[:2] + '...' + x +'?'
'''
Задача на 1 балл:
https://edabit.com/challenge/gt9LLufDCMHKMioh2
'''
def stutter(x):
    return x[:2] + '...' + x[:2] + '...' + x +'?'
stutter("five")
'fi...fi...five?'
'''
Задача на 2 балла:
https://edabit.com/challenge/xRMQG4Sxewx5agDRr
'''
def find_highest(x):
    x = list(x)
    if len(x) == 1: return x[0]
    if x[0] >= find_highest(x[1:]) : return x[0]
    return find_highest(x[1:])
find_highest([31, 2, 5, -4])
31
'''
Задача на 2 балла:
https://edabit.com/challenge/3DAkZHv2LZjgqWbvW
'''
def adjacency_check(matrix, i, j):
    if i >= len(matrix) or j >= len(matrix): return "Incorrect index"
    return bool(matrix[i][j])
a = [[0, 1, 0],
     [1, 0, 0],
     [0, 0, 0]]
adjacency_check(a, 1, 3)
'Incorrect index'
'''
Задача на 2 балла(ультрапростая):
https://edabit.com/challenge/NNhkGocuPMcryW7GP
'''
'''
Задача на 2 балла(ультрапростая):
https://edabit.com/challenge/NNhkGocuPMcryW7GP
'''
def square_areas_difference(r):
    return 2 * r ** 2
square_areas_difference(5)
50
'''
Задача на 3 балла:
https://edabit.com/challenge/Y5Ji2HDnQTX7MxeHt
'''
'''
Задача на 3 балла:
https://edabit.com/challenge/Y5Ji2HDnQTX7MxeHt
'''
import math
def snakefill(n):
    return int((math.log(n * n, 2)) // 1)
555
snakefill(555)
18
def oddishOrEvenish(x):
    s = 0
    while x > 0:
        s += x % 10
        x = x // 10
    if s % 2: 
        print("Oddish")
    else: 
        print("Evenish")
'''
Задача на 3 балла:
https://edabit.com/challenge/r6TSNwkLZ2DgsoKiH
'''
def oddishOrEvenish(x):
    s = 0
    while x > 0:
        s += x % 10
        x = x // 10
    if s % 2: 
        print("Oddish")
    else: 
        print("Evenish")
        
oddishOrEvenish(45)
Oddish
'''
Задача на 2 балла:
https://edabit.com/challenge/yFJzLfYghz7ZtsyAN
'''
​
def num_of_digits(x):
    s = 0
    while x > 0:
        s += 1
        x = x // 10
    return s
100
num_of_digits(100)
3
